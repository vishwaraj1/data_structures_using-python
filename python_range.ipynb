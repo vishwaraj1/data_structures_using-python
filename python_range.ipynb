{
 "cells": [
  {
   "cell_type": "code",
   "execution_count": null,
   "metadata": {},
   "outputs": [],
   "source": [
    "# Range returns a list of numbers from 0 to n - 1, n is the parameter\n",
    "\n",
    "print range(4)\n",
    "\n",
    "friends = ['Ritchie', 'John', 'Sally']\n",
    "length_friends = len(friends)\n",
    "\n",
    "print range(length_friends)\n",
    "\n",
    "# This is preferred\n",
    "for friend in friends:\n",
    "    print 'Happy New Year!', friend\n",
    "\n",
    "# Equivalent Loop where you need value of i\n",
    "for i in range(length_friends):\n",
    "    friend = friends[i]\n",
    "    print 'Happy New Year!', friend"
   ]
  },
  {
   "cell_type": "markdown",
   "metadata": {},
   "source": [
    "#### Range returns a list of numbers from 0 to n - 1, n is the parameter"
   ]
  },
  {
   "cell_type": "code",
   "execution_count": 2,
   "metadata": {},
   "outputs": [],
   "source": [
    "#print range"
   ]
  },
  {
   "cell_type": "code",
   "execution_count": 3,
   "metadata": {},
   "outputs": [
    {
     "name": "stdout",
     "output_type": "stream",
     "text": [
      "happy new year! Richa\n",
      "happy new year! John\n",
      "happy new year! Sally\n",
      "happy new year! salman\n"
     ]
    }
   ],
   "source": [
    "friends = ['Richa', 'John', 'Sally','salman']\n",
    "for friend in friends:\n",
    "    print(\"happy new year!\",friend)"
   ]
  },
  {
   "cell_type": "code",
   "execution_count": 4,
   "metadata": {},
   "outputs": [
    {
     "name": "stdout",
     "output_type": "stream",
     "text": [
      "happy new year! Richa\n",
      "happy new year! John\n",
      "happy new year! Sally\n",
      "happy new year! salman\n"
     ]
    }
   ],
   "source": [
    "for i in range(len(friends)):\n",
    "    friend=friends[i]\n",
    "    print(\"happy new year!\",friend)"
   ]
  },
  {
   "cell_type": "code",
   "execution_count": null,
   "metadata": {},
   "outputs": [],
   "source": []
  }
 ],
 "metadata": {
  "kernelspec": {
   "display_name": "Python 3",
   "language": "python",
   "name": "python3"
  },
  "language_info": {
   "codemirror_mode": {
    "name": "ipython",
    "version": 3
   },
   "file_extension": ".py",
   "mimetype": "text/x-python",
   "name": "python",
   "nbconvert_exporter": "python",
   "pygments_lexer": "ipython3",
   "version": "3.7.4"
  }
 },
 "nbformat": 4,
 "nbformat_minor": 2
}
